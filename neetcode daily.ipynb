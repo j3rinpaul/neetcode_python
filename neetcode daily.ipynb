{
 "cells": [
  {
   "cell_type": "markdown",
   "id": "e6e4d494-3ccb-40b9-bc44-aea9a80b3702",
   "metadata": {},
   "source": [
    "## 1 .Given an integer array nums, return true if any value appears more than once in the array, otherwise return false."
   ]
  },
  {
   "cell_type": "markdown",
   "id": "28327e89-0bbe-481f-ac3c-999695dbebd7",
   "metadata": {},
   "source": [
    "````python\n",
    "class Solution:\n",
    "    def hasDuplicate(self, nums: List[int]) -> bool:\n",
    "        newlist = set(nums)\n",
    "        if len(newlist) == len(nums):\n",
    "            return False\n",
    "        else:\n",
    "            return True\n",
    "```         "
   ]
  },
  {
   "cell_type": "markdown",
   "id": "5952608b-dade-47dd-a739-5b55fa9605d6",
   "metadata": {},
   "source": [
    "#### Created a set from the same list and compared the set \n",
    "#### if the cardinality matches then no duplicates else it contains duplicates"
   ]
  },
  {
   "cell_type": "raw",
   "id": "e44edeb4-a8b6-41a9-aae1-c0433ce437f6",
   "metadata": {},
   "source": []
  },
  {
   "cell_type": "markdown",
   "id": "d1cca6fa-18f0-4eeb-9a6f-aeed9504d1e7",
   "metadata": {},
   "source": [
    "## 2. Given two strings s and t, return true if the two strings are anagrams of each other, otherwise return false. An anagram is a string that contains the exact same characters as another string, but the order of the characters can be different."
   ]
  },
  {
   "cell_type": "markdown",
   "id": "2d00764f-4a7e-4961-a0eb-6f832821cf88",
   "metadata": {},
   "source": [
    "```python\n",
    "class Solution:\n",
    "    def isAnagram(self, s: str, t: str) -> bool:\n",
    "        if len(s) != len(t):\n",
    "            return False\n",
    "\n",
    "        countS, countT = {}, {}\n",
    "\n",
    "        for i in range(len(s)):\n",
    "            countS[s[i]] = 1 + countS.get(s[i], 0)\n",
    "            countT[t[i]] = 1 + countT.get(t[i], 0)\n",
    "        return countS == countT\n",
    "```"
   ]
  },
  {
   "cell_type": "raw",
   "id": "e4c4358b-f909-4c2f-abbd-ff86cad4195e",
   "metadata": {},
   "source": [
    "compared length if not equal then it return false\n",
    "created 2 dicts and each element is added into the respective dicts\n",
    "finally comparing both the dicts to confirm anagram"
   ]
  },
  {
   "cell_type": "raw",
   "id": "195f12c1-fefe-4c98-aa1e-e82ba3b28f7f",
   "metadata": {},
   "source": []
  },
  {
   "cell_type": "markdown",
   "id": "29bcad6f-17b1-4e4e-bada-8e3c66cd440c",
   "metadata": {},
   "source": [
    "## 3.Given an array of integers nums and an integer target, return the indices i and j such that nums[i] + nums[j] == target and i != j. You may assume that every input has exactly one pair of indices i and j that satisfy the condition. Return the answer with the smaller index first."
   ]
  },
  {
   "cell_type": "markdown",
   "id": "c348a7aa-7ecf-422f-bf64-bac8345a1474",
   "metadata": {},
   "source": [
    "```python\n",
    "class Solution:\n",
    "    def twoSum(self, nums: List[int], target: int) -> List[int]:\n",
    "        prev = {}\n",
    "        for i,n in enumerate(nums):\n",
    "            comp = target - n\n",
    "            if comp in prev:\n",
    "                return [prev[comp],i]\n",
    "            else:\n",
    "                prev[n] = i\n",
    "```\n",
    "\n",
    "        "
   ]
  },
  {
   "cell_type": "markdown",
   "id": "4ffd36b4-989a-40d0-99e4-f04c63a65bf4",
   "metadata": {},
   "source": [
    "idea : for the sum to exist in that list, the compliment should exist in that particular\n",
    "compliment = target - current_value\n",
    "\n",
    "we enumerate through the list to get the value and the index\n",
    "on each value we check whether it is available in the dict or not\n",
    "if available then return the index which is the value in the dict along with the current element index\n",
    "else the element is added as key and the index is added as value"
   ]
  },
  {
   "cell_type": "code",
   "execution_count": null,
   "id": "da59a1d2-5f35-4418-950e-0851e7bb491b",
   "metadata": {},
   "outputs": [],
   "source": []
  },
  {
   "cell_type": "markdown",
   "id": "8451b334-d6a1-4e89-9171-f0ab8f239290",
   "metadata": {},
   "source": [
    "## 4.Given an array of strings strs, group all anagrams together into sublists. You may return the output in any order.\n",
    "\n",
    "## An anagram is a string that contains the exact same characters as another string, but the order of the characters can be different."
   ]
  },
  {
   "cell_type": "markdown",
   "id": "d2aaeee2-89a0-4605-a84f-8eeb4d1e5704",
   "metadata": {},
   "source": [
    "```python\n",
    "class Solution:\n",
    "    def groupAnagrams(self, strs: List[str]) -> List[List[str]]:\n",
    "        group = defaultdict(list)\n",
    "        for words in strs:\n",
    "            s_word = \"\".join(sorted(words))\n",
    "            if s_word in group:\n",
    "                group[s_word].append(words)\n",
    "            else:\n",
    "                group[s_word] = [words]\n",
    "        return list(group.values())\n",
    "```\n",
    "         "
   ]
  },
  {
   "cell_type": "markdown",
   "id": "c90e29e4-37b2-41cc-8926-4ce39f17e86b",
   "metadata": {},
   "source": [
    "created a dict for storing all the list of anagrams\n",
    "for every word:\n",
    "    sort the current word\n",
    "    if it is present in the dict as a key:\n",
    "        append the word to the value list provided\n",
    "    else:\n",
    "        add the sorted word as key and the real word as value in a list\n",
    "return the list\n"
   ]
  },
  {
   "cell_type": "code",
   "execution_count": null,
   "id": "a0d244f1",
   "metadata": {},
   "outputs": [],
   "source": []
  },
  {
   "cell_type": "markdown",
   "id": "0a51bdd5",
   "metadata": {},
   "source": [
    "## 5.Given an integer array nums and an integer k, return the k most frequent elements within the array.\n",
    "\n",
    "## The test cases are generated such that the answer is always unique.\n",
    "\n",
    "## You may return the output in any order."
   ]
  },
  {
   "cell_type": "markdown",
   "id": "f9708b72",
   "metadata": {},
   "source": [
    "```python\n",
    "class Solution:\n",
    "    def topKFrequent(self, nums: List[int], k: int) -> List[int]:\n",
    "        count = {} \n",
    "        freq = [[] for i in range(len(nums) + 1)]\n",
    "\n",
    "        for n in nums:\n",
    "            count[n] = 1 + count.get(n, 0)\n",
    "        for n, c in count.items():\n",
    "            freq[c].append(n)\n",
    "\n",
    "        res = []\n",
    "        for i in range(len(freq) - 1, 0, -1):\n",
    "            for n in freq[i]:\n",
    "                res.append(n)\n",
    "                if len(res) == k:\n",
    "                    return res\n",
    "        ```"
   ]
  },
  {
   "cell_type": "markdown",
   "id": "258970b9",
   "metadata": {},
   "source": [
    "Asked to get the most frequent k words"
   ]
  },
  {
   "cell_type": "markdown",
   "id": "0842d677",
   "metadata": {},
   "source": [
    "Idea: create a dict and a list with length one more than the length of the given number\n",
    "add items to the dict with element as key and number of occurance as values\n",
    "for the elements of the dict, add those to the list at the certain index\n",
    "\n",
    "for eg: { 5: 3 , 4: 2} => [[],[],[4],[5]] here the elements are added to the inside list which is the value of the dict that acts as the index\n",
    "\n",
    "create a result array\n",
    "loop from the back and append those items to the result array\n",
    "if the length of the result is same as the given k\n",
    "end the loop and return the result array at the end "
   ]
  },
  {
   "cell_type": "code",
   "execution_count": null,
   "id": "3da2fee5",
   "metadata": {},
   "outputs": [],
   "source": []
  },
  {
   "cell_type": "markdown",
   "id": "a7af9f0f",
   "metadata": {},
   "source": [
    "## 6.Design an algorithm to encode a list of strings to a single string. The encoded string is then decoded back to the original list of strings.\n",
    "\n",
    "## Please implement encode and decode"
   ]
  },
  {
   "cell_type": "markdown",
   "id": "db2fea27",
   "metadata": {},
   "source": [
    "```python\n",
    "class Solution:\n",
    "    def encode(self, strs: List[str]) -> str:\n",
    "        res = \"\"\n",
    "        for s in strs:\n",
    "            res += str(len(s))+\"#\"+s\n",
    "        return res\n",
    "    def decode(self, s: str) -> List[str]:\n",
    "        res,i = [],0\n",
    "        while i < len(s):\n",
    "            j = i\n",
    "            while s[j] != \"#\":\n",
    "                j += 1\n",
    "            length  = int(s[i:j])\n",
    "            result = s[j+1:j+1+length]\n",
    "            res.append(result)\n",
    "            i = j+1+length\n",
    "        return res\n",
    "    ```\n",
    "\n"
   ]
  },
  {
   "cell_type": "markdown",
   "id": "8798ff20",
   "metadata": {},
   "source": [
    "encode:\n",
    "    we initially create a blank string\n",
    "    to that blank string we add all the elements of the list given with :\n",
    "        length of the element at the beginning followed by a '#'\n",
    "\n",
    "decode:\n",
    "    we create a result array to store the decoded string and an index to keep track of the pointer\n",
    "    until i is greater than the length of the encoded string:\n",
    "        i is assigned to j\n",
    "        until the encoded[j] is not equal to the #:\n",
    "            j is incremented\n",
    "        when # is encountered the elements in the encoded string from the position i to j is taken as the length of the string which is to be considered\n",
    "        to the result array, the encoded string elements from the j+1th position to the j+1+lenght position is appended which is decoded.\n",
    "        i is replaced to the j+1+lenght position\n",
    "    at end the result array is returned"
   ]
  },
  {
   "cell_type": "markdown",
   "id": "fb030147",
   "metadata": {},
   "source": [
    "# 7.Max Water Container"
   ]
  },
  {
   "cell_type": "markdown",
   "id": "09b37008",
   "metadata": {},
   "source": [
    "## You are given an integer array heights where heights[i] represents the height of the ith bar.\n",
    "### You may choose any two bars to form a container. Return the maximum amount of water a container can store.\n",
    "\n",
    "```\n",
    "Input: height = [1,7,2,5,4,7,3,6]\n",
    "Output: 36\n",
    "```"
   ]
  },
  {
   "cell_type": "markdown",
   "id": "8cbcbc85",
   "metadata": {},
   "source": [
    "```python\n",
    "class Solution:\n",
    "    def maxArea(self, heights: List[int]) -> int:\n",
    "        lp,rp = 0,len(heights)-1\n",
    "        max_area = 0\n",
    "        while(lp<=rp):\n",
    "            width = rp-lp\n",
    "            height = min(heights[lp],heights[rp])\n",
    "            ar = width*height\n",
    "            if(ar > max_area):\n",
    "                max_area = ar\n",
    "            if(heights[lp]< heights[rp]):\n",
    "                lp +=1\n",
    "            else:\n",
    "                rp -=1\n",
    "        return max_area\n",
    "        ```\n"
   ]
  },
  {
   "cell_type": "markdown",
   "id": "d090579a",
   "metadata": {},
   "source": [
    "## Algorithm Explanation\n",
    "\n",
    "### 1. Initialize Variables\n",
    "- `lp` (left pointer) is set to the beginning of the list (`0`).\n",
    "- `rp` (right pointer) is set to the end of the list (`len(heights) - 1`).\n",
    "- `max_area` is initialized to `0` to store the maximum area found.\n",
    "\n",
    "### 2. Two-Pointer Approach\n",
    "- The algorithm uses a `while` loop to iterate as long as `lp` is less than or equal to `rp`.\n",
    "- In each iteration:\n",
    "  - **Calculate Width**: `width` is the distance between `lp` and `rp`, calculated as `rp - lp`.\n",
    "  - **Calculate Height**: `height` is the minimum of the heights at `lp` and `rp` because the water level can only go as high as the shorter line.\n",
    "  - **Calculate Area**: `ar` is the area between `lp` and `rp`, calculated as `width * height`.\n",
    "  - **Update Maximum Area**: If `ar` is greater than `max_area`, update `max_area` with `ar`.\n",
    "\n",
    "### 3. Move the Pointer\n",
    "- To try and find a potentially larger area, the pointer at the shorter line is moved inward:\n",
    "  - If `heights[lp]` (left height) is less than `heights[rp]` (right height), increment `lp` by 1 to consider a possibly taller line on the left side.\n",
    "  - Otherwise, decrement `rp` by 1 to consider a possibly taller line on the right side.\n",
    "- This adjustment is based on the idea that moving the pointer at the shorter line may help achieve a greater area in future iterations.\n",
    "\n",
    "### 4. Return the Result\n",
    "- Once `lp` and `rp` meet, the loop exits, and the maximum area found is returned as `max_area`.\n"
   ]
  }
 ],
 "metadata": {
  "kernelspec": {
   "display_name": "Python 3",
   "language": "python",
   "name": "python3"
  },
  "language_info": {
   "codemirror_mode": {
    "name": "ipython",
    "version": 3
   },
   "file_extension": ".py",
   "mimetype": "text/x-python",
   "name": "python",
   "nbconvert_exporter": "python",
   "pygments_lexer": "ipython3",
   "version": "3.12.4"
  }
 },
 "nbformat": 4,
 "nbformat_minor": 5
}
